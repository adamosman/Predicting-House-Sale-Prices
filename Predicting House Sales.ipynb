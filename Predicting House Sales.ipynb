{
 "cells": [
  {
   "cell_type": "code",
   "execution_count": 1,
   "metadata": {
    "collapsed": true
   },
   "outputs": [],
   "source": [
    "import pandas as pd\n",
    "import numpy as np\n",
    "import matplotlib.pyplot as plt\n",
    "from sklearn.model_selection import KFold\n",
    "from sklearn.metrics import mean_squared_error\n",
    "from sklearn import linear_model\n",
    "%matplotlib inline\n",
    "\n",
    "housing = pd.read_csv('AmesHousing.tsv', delimiter = '\\t')"
   ]
  },
  {
   "cell_type": "code",
   "execution_count": 2,
   "metadata": {
    "collapsed": true
   },
   "outputs": [],
   "source": [
    "def transform_features(df):\n",
    "    return df\n",
    "\n",
    "def select_features(df):\n",
    "    return df[['Gr Liv Area', 'SalePrice']]\n",
    "\n",
    "def train_and_test(df):\n",
    "    train = df[:1460]\n",
    "    test = df[1460:]\n",
    "    numeric_train = train.select_dtypes(include = ['integer','float'])\n",
    "    numeric_test = train.select_dtypes(include = ['integer','float'])\n",
    "    features = numeric_train.columns.drop('SalePrice')\n",
    "    \n",
    "    lr = linear_model.LinearRegression()\n",
    "    lr.fit(train[features], train['SalePrice'])\n",
    "    predictions = lr.predict(test[features])\n",
    "    rmse = np.sqrt(mean_squared_error(test['SalePrice'], predictions))\n",
    "    \n",
    "    return rmse"
   ]
  },
  {
   "cell_type": "code",
   "execution_count": 3,
   "metadata": {},
   "outputs": [
    {
     "data": {
      "text/plain": [
       "57088.251612639091"
      ]
     },
     "execution_count": 3,
     "metadata": {},
     "output_type": "execute_result"
    }
   ],
   "source": [
    "transform_df = transform_features(housing)\n",
    "filtered_df = select_features(transform_df)\n",
    "rmse = train_and_test(filtered_df)\n",
    "rmse"
   ]
  },
  {
   "cell_type": "markdown",
   "metadata": {},
   "source": [
    "# Feature Engineering\n",
    "1: Drop any column with 5% or more missing values:"
   ]
  },
  {
   "cell_type": "code",
   "execution_count": 4,
   "metadata": {},
   "outputs": [
    {
     "data": {
      "text/plain": [
       "Order                0\n",
       "PID                  0\n",
       "MS SubClass          0\n",
       "MS Zoning            0\n",
       "Lot Frontage       490\n",
       "Lot Area             0\n",
       "Street               0\n",
       "Alley             2732\n",
       "Lot Shape            0\n",
       "Land Contour         0\n",
       "Utilities            0\n",
       "Lot Config           0\n",
       "Land Slope           0\n",
       "Neighborhood         0\n",
       "Condition 1          0\n",
       "Condition 2          0\n",
       "Bldg Type            0\n",
       "House Style          0\n",
       "Overall Qual         0\n",
       "Overall Cond         0\n",
       "Year Built           0\n",
       "Year Remod/Add       0\n",
       "Roof Style           0\n",
       "Roof Matl            0\n",
       "Exterior 1st         0\n",
       "Exterior 2nd         0\n",
       "Mas Vnr Type        23\n",
       "Mas Vnr Area        23\n",
       "Exter Qual           0\n",
       "Exter Cond           0\n",
       "                  ... \n",
       "Bedroom AbvGr        0\n",
       "Kitchen AbvGr        0\n",
       "Kitchen Qual         0\n",
       "TotRms AbvGrd        0\n",
       "Functional           0\n",
       "Fireplaces           0\n",
       "Fireplace Qu      1422\n",
       "Garage Type        157\n",
       "Garage Yr Blt      159\n",
       "Garage Finish      159\n",
       "Garage Cars          1\n",
       "Garage Area          1\n",
       "Garage Qual        159\n",
       "Garage Cond        159\n",
       "Paved Drive          0\n",
       "Wood Deck SF         0\n",
       "Open Porch SF        0\n",
       "Enclosed Porch       0\n",
       "3Ssn Porch           0\n",
       "Screen Porch         0\n",
       "Pool Area            0\n",
       "Pool QC           2917\n",
       "Fence             2358\n",
       "Misc Feature      2824\n",
       "Misc Val             0\n",
       "Mo Sold              0\n",
       "Yr Sold              0\n",
       "Sale Type            0\n",
       "Sale Condition       0\n",
       "SalePrice            0\n",
       "Length: 82, dtype: int64"
      ]
     },
     "execution_count": 4,
     "metadata": {},
     "output_type": "execute_result"
    }
   ],
   "source": [
    "# Tally the total missing values for each column\n",
    "missing_val = housing.isnull().sum()\n",
    "missing_val"
   ]
  },
  {
   "cell_type": "code",
   "execution_count": 5,
   "metadata": {},
   "outputs": [],
   "source": [
    "# Selects columns with missing values in excess of 5%\n",
    "drop_missing_col = missing_val[(missing_val > len(housing)*0.05)].sort_values()\n",
    "# Drop the selected columns from the housing data\n",
    "housing = housing.drop(drop_missing_col.index, axis=1)"
   ]
  },
  {
   "cell_type": "code",
   "execution_count": 6,
   "metadata": {},
   "outputs": [
    {
     "data": {
      "text/plain": [
       "Order               0\n",
       "PID                 0\n",
       "MS SubClass         0\n",
       "MS Zoning           0\n",
       "Lot Area            0\n",
       "Street              0\n",
       "Lot Shape           0\n",
       "Land Contour        0\n",
       "Utilities           0\n",
       "Lot Config          0\n",
       "Land Slope          0\n",
       "Neighborhood        0\n",
       "Condition 1         0\n",
       "Condition 2         0\n",
       "Bldg Type           0\n",
       "House Style         0\n",
       "Overall Qual        0\n",
       "Overall Cond        0\n",
       "Year Built          0\n",
       "Year Remod/Add      0\n",
       "Roof Style          0\n",
       "Roof Matl           0\n",
       "Exterior 1st        0\n",
       "Exterior 2nd        0\n",
       "Mas Vnr Type       23\n",
       "Mas Vnr Area       23\n",
       "Exter Qual          0\n",
       "Exter Cond          0\n",
       "Foundation          0\n",
       "Bsmt Qual          80\n",
       "                   ..\n",
       "Electrical          1\n",
       "1st Flr SF          0\n",
       "2nd Flr SF          0\n",
       "Low Qual Fin SF     0\n",
       "Gr Liv Area         0\n",
       "Bsmt Full Bath      2\n",
       "Bsmt Half Bath      2\n",
       "Full Bath           0\n",
       "Half Bath           0\n",
       "Bedroom AbvGr       0\n",
       "Kitchen AbvGr       0\n",
       "Kitchen Qual        0\n",
       "TotRms AbvGrd       0\n",
       "Functional          0\n",
       "Fireplaces          0\n",
       "Garage Cars         1\n",
       "Garage Area         1\n",
       "Paved Drive         0\n",
       "Wood Deck SF        0\n",
       "Open Porch SF       0\n",
       "Enclosed Porch      0\n",
       "3Ssn Porch          0\n",
       "Screen Porch        0\n",
       "Pool Area           0\n",
       "Misc Val            0\n",
       "Mo Sold             0\n",
       "Yr Sold             0\n",
       "Sale Type           0\n",
       "Sale Condition      0\n",
       "SalePrice           0\n",
       "Length: 71, dtype: int64"
      ]
     },
     "execution_count": 6,
     "metadata": {},
     "output_type": "execute_result"
    }
   ],
   "source": [
    "housing.isnull().sum()"
   ]
  },
  {
   "cell_type": "markdown",
   "metadata": {},
   "source": [
    "2: Drop any text column missing 1 or more values"
   ]
  },
  {
   "cell_type": "code",
   "execution_count": 7,
   "metadata": {
    "collapsed": true
   },
   "outputs": [],
   "source": [
    "# Tally the total missing values from the text columns\n",
    "text_missing = housing.select_dtypes(include=['object']).isnull().sum().sort_values(ascending=False)\n",
    "# Select the columns that are missing at least one value\n",
    "drop_missing_col_2 = text_missing[text_missing > 0]\n",
    "\n",
    "housing = housing.drop(drop_missing_col_2.index, axis = 1)"
   ]
  },
  {
   "cell_type": "markdown",
   "metadata": {},
   "source": [
    "3: For numerical columns, fill in missing values with the most common value for each column"
   ]
  },
  {
   "cell_type": "code",
   "execution_count": 8,
   "metadata": {},
   "outputs": [
    {
     "data": {
      "text/plain": [
       "BsmtFin SF 1       1\n",
       "BsmtFin SF 2       1\n",
       "Bsmt Unf SF        1\n",
       "Total Bsmt SF      1\n",
       "Garage Cars        1\n",
       "Garage Area        1\n",
       "Bsmt Full Bath     2\n",
       "Bsmt Half Bath     2\n",
       "Mas Vnr Area      23\n",
       "dtype: int64"
      ]
     },
     "execution_count": 8,
     "metadata": {},
     "output_type": "execute_result"
    }
   ],
   "source": [
    "num_missing = housing.select_dtypes(include=['int','float']).isnull().sum()\n",
    "num_missing_fix = num_missing[(num_missing < len(housing)/20) & (num_missing > 0)].sort_values()\n",
    "num_missing_fix"
   ]
  },
  {
   "cell_type": "code",
   "execution_count": 9,
   "metadata": {},
   "outputs": [
    {
     "data": {
      "text/plain": [
       "{'Bsmt Full Bath': 0.0,\n",
       " 'Bsmt Half Bath': 0.0,\n",
       " 'Bsmt Unf SF': 0.0,\n",
       " 'BsmtFin SF 1': 0.0,\n",
       " 'BsmtFin SF 2': 0.0,\n",
       " 'Garage Area': 0.0,\n",
       " 'Garage Cars': 2.0,\n",
       " 'Mas Vnr Area': 0.0,\n",
       " 'Total Bsmt SF': 0.0}"
      ]
     },
     "execution_count": 9,
     "metadata": {},
     "output_type": "execute_result"
    }
   ],
   "source": [
    "# Determine the most common value in each column\n",
    "fill_val = housing[num_missing_fix.index].mode().to_dict(orient='records')[0]\n",
    "fill_val"
   ]
  },
  {
   "cell_type": "code",
   "execution_count": 10,
   "metadata": {
    "collapsed": true
   },
   "outputs": [],
   "source": [
    "# Replace the missing values with pd.Dataframe.fillna()\n",
    "housing = housing.fillna(fill_val)"
   ]
  },
  {
   "cell_type": "code",
   "execution_count": 11,
   "metadata": {},
   "outputs": [
    {
     "data": {
      "text/plain": [
       "0    64\n",
       "dtype: int64"
      ]
     },
     "execution_count": 11,
     "metadata": {},
     "output_type": "execute_result"
    }
   ],
   "source": [
    "# Confirm missing values are absent\n",
    "housing.isnull().sum().value_counts()"
   ]
  },
  {
   "cell_type": "markdown",
   "metadata": {},
   "source": [
    "* What new features can we create, that better capture the information in some of the features?"
   ]
  },
  {
   "cell_type": "code",
   "execution_count": 12,
   "metadata": {},
   "outputs": [
    {
     "data": {
      "text/plain": [
       "2180   -1\n",
       "dtype: int64"
      ]
     },
     "execution_count": 12,
     "metadata": {},
     "output_type": "execute_result"
    }
   ],
   "source": [
    "# Compute how many years have passed from when the house was built to\n",
    "# it being initially sold\n",
    "years_sold = housing['Yr Sold'] - housing['Year Built']\n",
    "# Check for any negative values (i.e. incorrect dates)\n",
    "years_sold[years_sold < 0]"
   ]
  },
  {
   "cell_type": "code",
   "execution_count": 13,
   "metadata": {},
   "outputs": [
    {
     "data": {
      "text/plain": [
       "1702   -1\n",
       "2180   -2\n",
       "2181   -1\n",
       "dtype: int64"
      ]
     },
     "execution_count": 13,
     "metadata": {},
     "output_type": "execute_result"
    }
   ],
   "source": [
    "# Compute how many years have passed from when the house was remodeled to\n",
    "# when it was next sold\n",
    "years_since_remod = housing['Yr Sold'] - housing['Year Remod/Add']\n",
    "# Check for any negative values\n",
    "years_since_remod[years_since_remod < 0]"
   ]
  },
  {
   "cell_type": "code",
   "execution_count": 14,
   "metadata": {
    "collapsed": true
   },
   "outputs": [],
   "source": [
    "# Add new columns based on computations\n",
    "housing['Years Before Sale'] = years_sold\n",
    "housing['Years Since Remodel'] = years_since_remod\n",
    "\n",
    "# Drop rows with negative values and original years columns\n",
    "housing = housing.drop([1702,2180,2181], axis=0)\n",
    "housing = housing.drop(['Year Built', 'Year Remod/Add'], axis=1)"
   ]
  },
  {
   "cell_type": "markdown",
   "metadata": {},
   "source": [
    "Drop columns that are not useful for machine learning and ones that leak data about the final sale."
   ]
  },
  {
   "cell_type": "code",
   "execution_count": 15,
   "metadata": {},
   "outputs": [],
   "source": [
    "# Columns not useful to machine learning\n",
    "housing = housing.drop(['PID', 'Order'], axis=1)\n",
    "# Columns that leak data about the finale sale\n",
    "housing = housing.drop(['Mo Sold', 'Sale Condition', 'Sale Type', 'Yr Sold'], axis=1)"
   ]
  },
  {
   "cell_type": "markdown",
   "metadata": {},
   "source": [
    "* Update `transform_features()` to incorporate the previous transformations"
   ]
  },
  {
   "cell_type": "code",
   "execution_count": 16,
   "metadata": {},
   "outputs": [
    {
     "data": {
      "text/plain": [
       "55275.367312413073"
      ]
     },
     "execution_count": 16,
     "metadata": {},
     "output_type": "execute_result"
    }
   ],
   "source": [
    "def transform_features(df):\n",
    "    missing_val = df.isnull().sum()\n",
    "    drop_missing_col = missing_val[(missing_val > len(df)*0.05)].sort_values()\n",
    "    df = df.drop(drop_missing_col.index, axis=1)\n",
    "    \n",
    "    text_missing = df.select_dtypes(include=['object']).isnull().sum().sort_values(ascending=False)\n",
    "    drop_missing_col_2 = text_missing[text_missing > 0]\n",
    "    df = df.drop(drop_missing_col_2.index, axis = 1)\n",
    "    \n",
    "    num_missing = df.select_dtypes(include=['int','float']).isnull().sum()\n",
    "    num_missing_fix = num_missing[(num_missing < len(df)/20) & (num_missing > 0)].sort_values()\n",
    "    \n",
    "    fill_val = df[num_missing_fix.index].mode().to_dict(orient='records')[0]\n",
    "    df = df.fillna(fill_val)\n",
    "    \n",
    "    years_sold = df['Yr Sold'] - df['Year Built']\n",
    "    years_since_remod = df['Yr Sold'] - df['Year Remod/Add']\n",
    "    df['Years Before Sale'] = years_sold\n",
    "    df['Years Since Remodel'] = years_since_remod\n",
    "    df = df.drop([1702,2180,2181], axis=0)\n",
    "    df = df.drop(['Year Built','Year Remod/Add','PID','Order','Mo Sold','Sale Condition','Sale Type','Yr Sold'], axis=1)\n",
    "    \n",
    "    return df\n",
    "\n",
    "def select_features(df):\n",
    "    return df[['Gr Liv Area', 'SalePrice']]\n",
    "\n",
    "def train_and_test(df):\n",
    "    train = df[:1460]\n",
    "    test = df[1460:]\n",
    "    numeric_train = train.select_dtypes(include = ['integer','float'])\n",
    "    numeric_test = train.select_dtypes(include = ['integer','float'])\n",
    "    features = numeric_train.columns.drop('SalePrice')\n",
    "    \n",
    "    lr = linear_model.LinearRegression()\n",
    "    lr.fit(train[features], train['SalePrice'])\n",
    "    predictions = lr.predict(test[features])\n",
    "    rmse = np.sqrt(mean_squared_error(test['SalePrice'], predictions))\n",
    "    \n",
    "    return rmse\n",
    "\n",
    "housing = pd.read_csv('AmesHousing.tsv', delimiter='\\t')\n",
    "transform_df = transform_features(housing)\n",
    "filtered_df = select_features(transform_df)\n",
    "rmse = train_and_test(filtered_df)\n",
    "\n",
    "rmse"
   ]
  },
  {
   "cell_type": "markdown",
   "metadata": {},
   "source": [
    "The initial execution of the train and test yielded a result of `57088.2516`  and after tailoring the features to best fit the model, the RMSE result has been decreased to `55275.3673`."
   ]
  },
  {
   "cell_type": "markdown",
   "metadata": {
    "collapsed": true
   },
   "source": [
    "# Feature Selection for Numerical Values"
   ]
  },
  {
   "cell_type": "code",
   "execution_count": 17,
   "metadata": {},
   "outputs": [
    {
     "data": {
      "text/plain": [
       "BsmtFin SF 2           0.006127\n",
       "Misc Val               0.019273\n",
       "3Ssn Porch             0.032268\n",
       "Bsmt Half Bath         0.035875\n",
       "Low Qual Fin SF        0.037629\n",
       "Pool Area              0.068438\n",
       "MS SubClass            0.085128\n",
       "Overall Cond           0.101540\n",
       "Screen Porch           0.112280\n",
       "Kitchen AbvGr          0.119760\n",
       "Enclosed Porch         0.128685\n",
       "Bedroom AbvGr          0.143916\n",
       "Bsmt Unf SF            0.182751\n",
       "Lot Area               0.267520\n",
       "2nd Flr SF             0.269601\n",
       "Bsmt Full Bath         0.276258\n",
       "Half Bath              0.284871\n",
       "Open Porch SF          0.316262\n",
       "Wood Deck SF           0.328183\n",
       "BsmtFin SF 1           0.439284\n",
       "Fireplaces             0.474831\n",
       "TotRms AbvGrd          0.498574\n",
       "Mas Vnr Area           0.506983\n",
       "Years Since Remodel    0.534985\n",
       "Full Bath              0.546118\n",
       "Years Before Sale      0.558979\n",
       "1st Flr SF             0.635185\n",
       "Garage Area            0.641425\n",
       "Total Bsmt SF          0.644012\n",
       "Garage Cars            0.648361\n",
       "Gr Liv Area            0.717596\n",
       "Overall Qual           0.801206\n",
       "SalePrice              1.000000\n",
       "Name: SalePrice, dtype: float64"
      ]
     },
     "execution_count": 17,
     "metadata": {},
     "output_type": "execute_result"
    }
   ],
   "source": [
    "numerical_df = transform_df.select_dtypes(include=['int','float'])\n",
    "abs_corrs_coeff = numerical_df.corr()['SalePrice'].abs().sort_values()\n",
    "abs_corrs_coeff"
   ]
  },
  {
   "cell_type": "code",
   "execution_count": 18,
   "metadata": {},
   "outputs": [
    {
     "data": {
      "text/plain": [
       "<matplotlib.axes._subplots.AxesSubplot at 0x1a147d0978>"
      ]
     },
     "execution_count": 18,
     "metadata": {},
     "output_type": "execute_result"
    },
    {
     "data": {
      "image/png": "[encoded data removed]",
      "text/plain": [
       "<matplotlib.figure.Figure at 0x10b9e66d8>"
      ]
     },
     "metadata": {},
     "output_type": "display_data"
    }
   ],
   "source": [
    "import seaborn as sns\n",
    "sns.heatmap(numerical_df.corr().abs())"
   ]
  },
  {
   "cell_type": "code",
   "execution_count": 19,
   "metadata": {},
   "outputs": [
    {
     "data": {
      "text/plain": [
       "BsmtFin SF 1           0.439284\n",
       "Fireplaces             0.474831\n",
       "TotRms AbvGrd          0.498574\n",
       "Mas Vnr Area           0.506983\n",
       "Years Since Remodel    0.534985\n",
       "Full Bath              0.546118\n",
       "Years Before Sale      0.558979\n",
       "1st Flr SF             0.635185\n",
       "Garage Area            0.641425\n",
       "Total Bsmt SF          0.644012\n",
       "Garage Cars            0.648361\n",
       "Gr Liv Area            0.717596\n",
       "Overall Qual           0.801206\n",
       "SalePrice              1.000000\n",
       "Name: SalePrice, dtype: float64"
      ]
     },
     "execution_count": 19,
     "metadata": {},
     "output_type": "execute_result"
    }
   ],
   "source": [
    "# Focus on features with a correlation greater than 40%\n",
    "abs_corrs_coeff[abs_corrs_coeff > 0.4]"
   ]
  },
  {
   "cell_type": "code",
   "execution_count": 20,
   "metadata": {
    "collapsed": true
   },
   "outputs": [],
   "source": [
    "# Drop columns with less than 40% correlation to SalePrice\n",
    "transform_df = transform_df.drop(abs_corrs_coeff[abs_corrs_coeff > 0.4].index, axis = 1)"
   ]
  },
  {
   "cell_type": "code",
   "execution_count": 21,
   "metadata": {
    "collapsed": true
   },
   "outputs": [],
   "source": [
    "# Select the columns from the documentation which are marked 'nominal' that\n",
    "# will be converted to categorical data type\n",
    "nominal_features = [\"PID\", \"MS SubClass\", \"MS Zoning\", \"Street\", \"Alley\", \"Land Contour\", \"Lot Config\", \"Neighborhood\", \n",
    "                    \"Condition 1\", \"Condition 2\", \"Bldg Type\", \"House Style\", \"Roof Style\", \"Roof Matl\", \"Exterior 1st\", \n",
    "                    \"Exterior 2nd\", \"Mas Vnr Type\", \"Foundation\", \"Heating\", \"Central Air\", \"Garage Type\", \n",
    "                    \"Misc Feature\", \"Sale Type\", \"Sale Condition\"]"
   ]
  },
  {
   "cell_type": "markdown",
   "metadata": {},
   "source": [
    "* Check the columns currently in the dataframe that are numerical but need to be encoded as categorical instead (because the numbers don't have any semantic meaning)\n",
    "* Check which categorical columns should be used to avoid having hundreds of columns added after adding dummy code."
   ]
  },
  {
   "cell_type": "code",
   "execution_count": 22,
   "metadata": {},
   "outputs": [
    {
     "data": {
      "text/plain": [
       "Central Air      2\n",
       "Street           2\n",
       "Land Contour     4\n",
       "Lot Config       5\n",
       "Bldg Type        5\n",
       "Heating          6\n",
       "Roof Style       6\n",
       "Foundation       6\n",
       "MS Zoning        7\n",
       "Condition 2      8\n",
       "House Style      8\n",
       "Roof Matl        8\n",
       "Condition 1      9\n",
       "Exterior 1st    16\n",
       "MS SubClass     16\n",
       "Exterior 2nd    17\n",
       "Neighborhood    28\n",
       "dtype: int64"
      ]
     },
     "execution_count": 22,
     "metadata": {},
     "output_type": "execute_result"
    }
   ],
   "source": [
    "# Check which categorical columns are already present in the dataframe\n",
    "transform_cat_cols = []\n",
    "for col in nominal_features:\n",
    "    if col in transform_df.columns:\n",
    "        transform_cat_cols.append(col)\n",
    "        \n",
    "# Compute how many unique values are in each categorical column\n",
    "unique_counts = transform_df[transform_cat_cols].apply(lambda col: len(col.value_counts())).sort_values()\n",
    "unique_counts"
   ]
  },
  {
   "cell_type": "code",
   "execution_count": 23,
   "metadata": {
    "collapsed": true
   },
   "outputs": [],
   "source": [
    "# Drop columns with more than 10 unique values (arbitrary cutoff)\n",
    "drop_unique_cols = unique_counts[unique_counts > 10].index\n",
    "transform_df = transform_df.drop(drop_unique_cols, axis = 1)"
   ]
  },
  {
   "cell_type": "code",
   "execution_count": 24,
   "metadata": {},
   "outputs": [],
   "source": [
    "# Convert the remaining text columns to categorical\n",
    "text_cols = transform_df.select_dtypes(include=['object'])\n",
    "for col in text_cols:\n",
    "    transform_df[col] = transform_df[col].astype('category')\n",
    "    \n",
    "# Create dummy columns that get added back to the dataframe\n",
    "transform_df = pd.concat([\n",
    "    transform_df,\n",
    "    pd.get_dummies(transform_df.select_dtypes(include=['category']))\n",
    "], axis = 1)"
   ]
  },
  {
   "cell_type": "markdown",
   "metadata": {},
   "source": [
    "* Update `select_features()` to incorporate these new feature selection methods"
   ]
  },
  {
   "cell_type": "code",
   "execution_count": 25,
   "metadata": {},
   "outputs": [
    {
     "data": {
      "text/plain": [
       "56839.72631923257"
      ]
     },
     "execution_count": 25,
     "metadata": {},
     "output_type": "execute_result"
    }
   ],
   "source": [
    "def transform_features(df):\n",
    "    missing_val = df.isnull().sum()\n",
    "    drop_missing_col = missing_val[(missing_val > len(df)*0.05)].sort_values()\n",
    "    df = df.drop(drop_missing_col.index, axis=1)\n",
    "    \n",
    "    text_missing = df.select_dtypes(include=['object']).isnull().sum().sort_values(ascending=False)\n",
    "    drop_missing_col_2 = text_missing[text_missing > 0]\n",
    "    df = df.drop(drop_missing_col_2.index, axis = 1)\n",
    "    \n",
    "    num_missing = df.select_dtypes(include=['int','float']).isnull().sum()\n",
    "    num_missing_fix = num_missing[(num_missing < len(df)/20) & (num_missing > 0)].sort_values()\n",
    "    \n",
    "    fill_val = df[num_missing_fix.index].mode().to_dict(orient='records')[0]\n",
    "    df = df.fillna(fill_val)\n",
    "    \n",
    "    years_sold = df['Yr Sold'] - df['Year Built']\n",
    "    years_since_remod = df['Yr Sold'] - df['Year Remod/Add']\n",
    "    df['Years Before Sale'] = years_sold\n",
    "    df['Years Since Remodel'] = years_since_remod\n",
    "    df = df.drop([1702,2180,2181], axis=0)\n",
    "    df = df.drop(['Year Built','Year Remod/Add','PID','Order','Mo Sold','Sale Condition','Sale Type','Yr Sold'], axis=1)\n",
    "    \n",
    "    return df\n",
    "\n",
    "def select_features(df, coeff_threshold=0.4, unique_threshold=10):\n",
    "    numerical_df = df.select_dtypes(include=['int','float'])\n",
    "    abs_corrs_coeff = numerical_df.corr()['SalePrice'].abs().sort_values()\n",
    "    \n",
    "    df = df.drop(abs_corrs_coeff[abs_corrs_coeff > coeff_threshold].index, axis = 1)\n",
    "    nominal_features = [\"PID\", \"MS SubClass\", \"MS Zoning\", \"Street\", \"Alley\", \"Land Contour\", \"Lot Config\", \"Neighborhood\", \n",
    "                    \"Condition 1\", \"Condition 2\", \"Bldg Type\", \"House Style\", \"Roof Style\", \"Roof Matl\", \"Exterior 1st\", \n",
    "                    \"Exterior 2nd\", \"Mas Vnr Type\", \"Foundation\", \"Heating\", \"Central Air\", \"Garage Type\", \n",
    "                    \"Misc Feature\", \"Sale Type\", \"Sale Condition\"]\n",
    "    \n",
    "    transform_cat_cols = []\n",
    "    for col in nominal_features:\n",
    "        if col in df.columns:\n",
    "            transform_cat_cols.append(col)\n",
    "        \n",
    "    unique_counts = df[transform_cat_cols].apply(lambda col: len(col.value_counts())).sort_values()\n",
    "    drop_unique_cols = unique_counts[unique_counts > 10].index\n",
    "    df = df.drop(drop_unique_cols, axis = 1)\n",
    "    \n",
    "    text_cols = df.select_dtypes(include=['object'])\n",
    "    for col in text_cols:\n",
    "        df[col] = df[col].astype('category')\n",
    "    \n",
    "    df = pd.concat([\n",
    "        transform_df,\n",
    "        pd.get_dummies(df.select_dtypes(include=['category']))\n",
    "    ], axis = 1)\n",
    "    \n",
    "    return df\n",
    "\n",
    "def train_and_test(df):\n",
    "    train = df[:1460]\n",
    "    test = df[1460:]\n",
    "    numeric_train = train.select_dtypes(include = ['integer','float'])\n",
    "    numeric_test = train.select_dtypes(include = ['integer','float'])\n",
    "    features = numeric_train.columns.drop('SalePrice')\n",
    "    \n",
    "    lr = linear_model.LinearRegression()\n",
    "    lr.fit(train[features], train['SalePrice'])\n",
    "    predictions = lr.predict(test[features])\n",
    "    rmse = np.sqrt(mean_squared_error(test['SalePrice'], predictions))\n",
    "    \n",
    "    return rmse\n",
    "\n",
    "housing = pd.read_csv('AmesHousing.tsv', delimiter='\\t')\n",
    "transform_df = transform_features(housing)\n",
    "filtered_df = select_features(transform_df)\n",
    "rmse = train_and_test(filtered_df)\n",
    "\n",
    "rmse"
   ]
  },
  {
   "cell_type": "markdown",
   "metadata": {},
   "source": [
    "* Update `train_and_test()` to include parameter `k` that controls the type of cross validation that occurs"
   ]
  },
  {
   "cell_type": "code",
   "execution_count": 26,
   "metadata": {},
   "outputs": [
    {
     "data": {
      "text/plain": [
       "28049.424483049821"
      ]
     },
     "execution_count": 26,
     "metadata": {},
     "output_type": "execute_result"
    }
   ],
   "source": [
    "def train_and_test(df, k=0):\n",
    "    numeric_df = df.select_dtypes(include=['integer', 'float'])\n",
    "    features = numeric_df.columns.drop(\"SalePrice\")\n",
    "    lr = linear_model.LinearRegression()\n",
    "    \n",
    "    # When k=0, perform holdout validation (already implemented earlier)\n",
    "    if k==0:\n",
    "        train = df[:1460]\n",
    "        test = df[1460:]\n",
    "        \n",
    "        lr.fit(train[features], train['SalePrice'])\n",
    "        predictions = lr.predict(test[features])\n",
    "        rmse = np.sqrt(mean_squared_error(test['SalePrice'], predictions))\n",
    "    \n",
    "        return rmse\n",
    "    \n",
    "    # When k=1, peform simple cross validation\n",
    "    if k==1:\n",
    "        # Randomize all rows from df and return\n",
    "        df = df.sample(frac=1, )\n",
    "        train = df[:1460]\n",
    "        test = df[1460:]\n",
    "        \n",
    "        lr.fit(train[features], train['SalePrice'])\n",
    "        predictions_one = lr.predict(test[features])\n",
    "        rmse_one = np.sqrt(mean_squared_error(test['SalePrice'], predictions_one))\n",
    "        \n",
    "        lr.fit(test[features], test['SalePrice'])\n",
    "        predictions_two = lr.predict(train[features])\n",
    "        rmse_two = np.sqrt(mean_squared_error(train['SalePrice'], predictions_two))\n",
    "        avg_rmse = np.mean([rmse_one, rmse_two])\n",
    "        return avg_rmse\n",
    "    \n",
    "    else:\n",
    "        kf = KFold(n_splits=k, shuffle=True)\n",
    "        rmse_values = []\n",
    "        for train_index, test_index in kf.split(df):\n",
    "            train = df.iloc[train_index]\n",
    "            test = df.iloc[test_index]\n",
    "            lr.fit(train[features], train['SalePrice'])\n",
    "            predictions = lr.predict(test[features])\n",
    "            rmse = np.sqrt(mean_squared_error(test['SalePrice'], predictions))\n",
    "            rmse_values.append(rmse)\n",
    "        \n",
    "        avg_rmse = np.mean(rmse_values)\n",
    "        return avg_rmse\n",
    "\n",
    "housing = pd.read_csv('AmesHousing.tsv', delimiter = '\\t')\n",
    "transform_df = transform_features(housing)\n",
    "filtered_df = select_features(transform_df)\n",
    "rmse = train_and_test(filtered_df, k=4)\n",
    "\n",
    "rmse"
   ]
  }
 ],
 "metadata": {
  "anaconda-cloud": {},
  "kernelspec": {
   "display_name": "Python 3",
   "language": "python",
   "name": "python3"
  },
  "language_info": {
   "codemirror_mode": {
    "name": "ipython",
    "version": 3
   },
   "file_extension": ".py",
   "mimetype": "text/x-python",
   "name": "python",
   "nbconvert_exporter": "python",
   "pygments_lexer": "ipython3",
   "version": "3.5.4"
  }
 },
 "nbformat": 4,
 "nbformat_minor": 2
}
